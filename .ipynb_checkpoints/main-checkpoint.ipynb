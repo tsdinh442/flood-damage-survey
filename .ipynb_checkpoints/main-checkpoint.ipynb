{
 "cells": [
  {
   "cell_type": "code",
   "execution_count": 2,
   "id": "75be8fee-3366-4225-b2a2-ee1f213bf163",
   "metadata": {},
   "outputs": [
    {
     "name": "stdout",
     "output_type": "stream",
     "text": [
      "Downloading flood-area-segmentation.zip to /Users/tungdinh/Documents/GitHub/flood-damage-survey\n",
      "100%|████████████████████████████████████████| 107M/107M [00:12<00:00, 10.3MB/s]\n",
      "100%|████████████████████████████████████████| 107M/107M [00:12<00:00, 8.63MB/s]\n"
     ]
    }
   ],
   "source": [
    "import kaggle\n",
    "import os\n",
    "\n",
    "#os.environ['KAGGLE_CONFIG_DIR'] = \"/Users/tungdinh/kaggle\"\n",
    "\n",
    "!kaggle datasets download -d faizalkarim/flood-area-segmentation "
   ]
  },
  {
   "cell_type": "code",
   "execution_count": 3,
   "id": "a6ba85ac-3f67-4c24-95a1-e2cc043e940f",
   "metadata": {},
   "outputs": [
    {
     "name": "stdout",
     "output_type": "stream",
     "text": [
      "Done\n"
     ]
    }
   ],
   "source": [
    "from zipfile import ZipFile\n",
    "file_name = 'flood-area-segmentation.zip' #the file is your dataset exact name\n",
    "with ZipFile(file_name, 'r') as zip:\n",
    "  zip.extractall('datasets')\n",
    "  print('Done')"
   ]
  },
  {
   "cell_type": "code",
   "execution_count": 1,
   "id": "6adf67ea-c9cd-4b27-9393-4317840310cd",
   "metadata": {},
   "outputs": [],
   "source": [
    "import os\n",
    "import numpy as np\n",
    "import tensorflow as tf\n",
    "from sklearn.model_selection import train_test_split\n",
    "from tensorflow.keras.optimizers.legacy import Adam\n",
    "import matplotlib.pyplot as plt\n",
    "import cv2\n",
    "\n",
    "from util import load_data, preprocess_data, display_data\n",
    "from unet import unet"
   ]
  },
  {
   "cell_type": "code",
   "execution_count": 2,
   "id": "4713e743-7bbc-460d-928b-3c600f2d052d",
   "metadata": {},
   "outputs": [
    {
     "name": "stdout",
     "output_type": "stream",
     "text": [
      "GPU is available\n"
     ]
    }
   ],
   "source": [
    "physical_devices = tf.config.list_physical_devices('GPU')\n",
    "print('GPU is available' if len(physical_devices) > 0 else 'Not available')"
   ]
  },
  {
   "cell_type": "code",
   "execution_count": 3,
   "id": "675de8ff-5438-404c-90db-2ed3510564c2",
   "metadata": {},
   "outputs": [],
   "source": [
    "# initialize input size and shape\n",
    "INPUT_SIZE = (256, 256)\n",
    "INPUT_SHAPE = (256, 256, 3) # color images, 3 channels"
   ]
  },
  {
   "cell_type": "code",
   "execution_count": 4,
   "id": "ff8e0bcd-b4d3-4488-a16c-fc43dbc08915",
   "metadata": {},
   "outputs": [
    {
     "ename": "AttributeError",
     "evalue": "module 'os' has no attribute 'joinpath'",
     "output_type": "error",
     "traceback": [
      "\u001b[0;31m---------------------------------------------------------------------------\u001b[0m",
      "\u001b[0;31mAttributeError\u001b[0m                            Traceback (most recent call last)",
      "Cell \u001b[0;32mIn[4], line 5\u001b[0m\n\u001b[1;32m      3\u001b[0m \u001b[38;5;66;03m# load data\u001b[39;00m\n\u001b[1;32m      4\u001b[0m dir_path \u001b[38;5;241m=\u001b[39m \u001b[38;5;124m'\u001b[39m\u001b[38;5;124mdatasets/\u001b[39m\u001b[38;5;124m'\u001b[39m\n\u001b[0;32m----> 5\u001b[0m image_filenames, mask_filenames \u001b[38;5;241m=\u001b[39m \u001b[43mload_data\u001b[49m\u001b[43m(\u001b[49m\u001b[43mdir_path\u001b[49m\u001b[43m)\u001b[49m\n\u001b[1;32m      7\u001b[0m \u001b[38;5;66;03m# display the first 5 pairs of image and mask\u001b[39;00m\n\u001b[1;32m      8\u001b[0m random_indices \u001b[38;5;241m=\u001b[39m random\u001b[38;5;241m.\u001b[39msample(\u001b[38;5;28mrange\u001b[39m(\u001b[38;5;241m0\u001b[39m, \u001b[38;5;28mlen\u001b[39m(image_filenames)), \u001b[38;5;241m5\u001b[39m)\n",
      "File \u001b[0;32m~/Documents/GitHub/flood-damage-survey/util.py:14\u001b[0m, in \u001b[0;36mload_data\u001b[0;34m(dir_path)\u001b[0m\n\u001b[1;32m     12\u001b[0m \u001b[38;5;28;01mdef\u001b[39;00m \u001b[38;5;21mload_data\u001b[39m(dir_path):\n\u001b[1;32m     13\u001b[0m     \u001b[38;5;66;03m# dir_path = '../satellite-roads/train/'\u001b[39;00m\n\u001b[0;32m---> 14\u001b[0m     image_path \u001b[38;5;241m=\u001b[39m \u001b[43mos\u001b[49m\u001b[38;5;241;43m.\u001b[39;49m\u001b[43mjoinpath\u001b[49m(dir_path, \u001b[38;5;124m'\u001b[39m\u001b[38;5;124mImage\u001b[39m\u001b[38;5;124m'\u001b[39m)\n\u001b[1;32m     15\u001b[0m     mask_path \u001b[38;5;241m=\u001b[39m os\u001b[38;5;241m.\u001b[39mjoinpath(dir_path, \u001b[38;5;124m'\u001b[39m\u001b[38;5;124mMask\u001b[39m\u001b[38;5;124m'\u001b[39m)\n\u001b[1;32m     17\u001b[0m     images \u001b[38;5;241m=\u001b[39m os\u001b[38;5;241m.\u001b[39mlistdir(image_path)\n",
      "\u001b[0;31mAttributeError\u001b[0m: module 'os' has no attribute 'joinpath'"
     ]
    }
   ],
   "source": [
    "import random\n",
    "\n",
    "# load data\n",
    "dir_path = 'datasets/'\n",
    "image_filenames, mask_filenames = load_data(dir_path)\n",
    "\n",
    "# display the first 5 pairs of image and mask\n",
    "random_indices = random.sample(range(0, len(image_filenames)), 5)\n",
    "display_data(dir_path, image_filenames[random_indices], mask_filenames[random_indices])"
   ]
  },
  {
   "cell_type": "code",
   "execution_count": null,
   "id": "52d86516-6612-4cf2-a259-4938f7cbc771",
   "metadata": {},
   "outputs": [],
   "source": []
  }
 ],
 "metadata": {
  "kernelspec": {
   "display_name": "Python 3.10 (tensorflow)",
   "language": "python",
   "name": "tensorflow"
  },
  "language_info": {
   "codemirror_mode": {
    "name": "ipython",
    "version": 3
   },
   "file_extension": ".py",
   "mimetype": "text/x-python",
   "name": "python",
   "nbconvert_exporter": "python",
   "pygments_lexer": "ipython3",
   "version": "3.10.11"
  }
 },
 "nbformat": 4,
 "nbformat_minor": 5
}
